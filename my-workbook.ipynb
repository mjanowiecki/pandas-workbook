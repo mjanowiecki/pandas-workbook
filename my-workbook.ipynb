import pandas as pd

filename = 'sampleData.csv'
df = pd.read_csv(filename)

print(df.head)
